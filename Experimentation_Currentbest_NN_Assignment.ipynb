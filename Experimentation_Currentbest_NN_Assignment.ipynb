{
  "nbformat": 4,
  "nbformat_minor": 0,
  "metadata": {
    "colab": {
      "provenance": [],
      "gpuType": "T4",
      "authorship_tag": "ABX9TyPMfGPgAa/9mV37MiDGspqy",
      "include_colab_link": true
    },
    "kernelspec": {
      "name": "python3",
      "display_name": "Python 3"
    },
    "language_info": {
      "name": "python"
    },
    "accelerator": "GPU",
    "gpuClass": "standard"
  },
  "cells": [
    {
      "cell_type": "markdown",
      "metadata": {
        "id": "view-in-github",
        "colab_type": "text"
      },
      "source": [
        "<a href=\"https://colab.research.google.com/github/Sobiii/Neural-Networks-CIFAR-10-Assignment/blob/main/Experimentation_Currentbest_NN_Assignment.ipynb\" target=\"_parent\"><img src=\"https://colab.research.google.com/assets/colab-badge.svg\" alt=\"Open In Colab\"/></a>"
      ]
    },
    {
      "cell_type": "code",
      "execution_count": null,
      "metadata": {
        "colab": {
          "base_uri": "https://localhost:8080/"
        },
        "id": "y3SiJ7sJ47XQ",
        "outputId": "9e0f6ce5-430d-4776-cdf8-d00afb494b2a"
      },
      "outputs": [
        {
          "output_type": "stream",
          "name": "stdout",
          "text": [
            "Mounted at /content/gdrive\n"
          ]
        }
      ],
      "source": [
        "# Setting up google drive \n",
        "\n",
        "from google.colab import drive\n",
        "drive.mount('/content/gdrive', force_remount=True)\n",
        "import sys\n",
        "sys.path.append('/content/gdrive/MyDrive/Colab Notebooks')"
      ]
    },
    {
      "cell_type": "markdown",
      "source": [
        "# 1) Reading CIFAR-10 and creating dataloaders (5%)\n",
        "\n"
      ],
      "metadata": {
        "id": "TNxFhE5_6bBb"
      }
    },
    {
      "cell_type": "markdown",
      "source": [
        "The CIFAR-10 python dataset has been viewed/downloaded from the University of Toronto website."
      ],
      "metadata": {
        "id": "7yHlCmxFCtkZ"
      }
    },
    {
      "cell_type": "code",
      "source": [
        "import torch\n",
        "import torchvision\n",
        "import torchvision.transforms as transforms\n",
        "import torch.nn as nn\n",
        "\n",
        "# Define the transformation functions for training and testing data\n",
        "# Data augmentation is used to increase randomness in the training set to increase generalisability\n",
        "# Includes Normalisation\n",
        "transform_train = transforms.Compose([\n",
        "    transforms.RandomHorizontalFlip(),\n",
        "    transforms.RandomCrop(32, padding=4),\n",
        "    transforms.ToTensor(),\n",
        "    transforms.Normalize(mean=(0.5, 0.5, 0.5), std=(0.5, 0.5, 0.5))\n",
        "])\n",
        "\n",
        "transform_test = transforms.Compose([\n",
        "    transforms.ToTensor(),\n",
        "    transforms.Normalize(mean=(0.5, 0.5, 0.5), std=(0.5, 0.5, 0.5))\n",
        "])\n",
        "\n",
        "\n",
        "# Loading the CIFAR-10 traininf and testing data\n",
        "\n",
        "trainset = torchvision.datasets.CIFAR10(root='./data', train=True, download=True, transform=transform_train)\n",
        "\n",
        "testset = torchvision.datasets.CIFAR10(root='./data', train=False,\n",
        "                                       download=True, transform=transform_test)\n",
        "\n",
        "# Creating dataloaders\n",
        "\n",
        "trainloader = torch.utils.data.DataLoader(trainset, batch_size=200,\n",
        "                                          shuffle=True, num_workers=2) # training dataloader object\n",
        "testloader = torch.utils.data.DataLoader(testset, batch_size=200,\n",
        "                                         shuffle=False, num_workers=2) # testing dataloader object\n",
        "\n",
        "# Defining the class labels\n",
        "\n",
        "classes = ('plane', 'car', 'bird', 'cat',\n",
        "           'deer', 'dog', 'frog', 'horse', 'ship', 'truck')\n",
        "\n",
        "# Accessing labels from dataloaders\n",
        "\n",
        "for images, labels in trainloader:\n",
        "    print(images.shape)  # tensor shape of image batch \n",
        "    print(labels.shape)  # tensor shape of label batch \n",
        "    break  \n"
      ],
      "metadata": {
        "colab": {
          "base_uri": "https://localhost:8080/"
        },
        "id": "9P760iWWlK3M",
        "outputId": "6e1ed73f-f66a-4d47-8248-f8a2f2390892"
      },
      "execution_count": 3,
      "outputs": [
        {
          "output_type": "stream",
          "name": "stdout",
          "text": [
            "Downloading https://www.cs.toronto.edu/~kriz/cifar-10-python.tar.gz to ./data/cifar-10-python.tar.gz\n"
          ]
        },
        {
          "output_type": "stream",
          "name": "stderr",
          "text": [
            "100%|██████████| 170498071/170498071 [00:01<00:00, 94327090.00it/s]\n"
          ]
        },
        {
          "output_type": "stream",
          "name": "stdout",
          "text": [
            "Extracting ./data/cifar-10-python.tar.gz to ./data\n",
            "Files already downloaded and verified\n",
            "torch.Size([200, 3, 32, 32])\n",
            "torch.Size([200])\n"
          ]
        }
      ]
    },
    {
      "cell_type": "markdown",
      "source": [
        "# 2) Creating the model (40%)"
      ],
      "metadata": {
        "id": "ivapJfRWqlnJ"
      }
    },
    {
      "cell_type": "code",
      "source": [
        "class MyModel(nn.Module):\n",
        "    def __init__(self, num_blocks, hidden_layers, hidden_units):\n",
        "        super(MyModel, self).__init__()\n",
        "\n",
        "        # The backbone\n",
        "        self.blocks = nn.ModuleList()\n",
        "        out_channels = [32, 120,]\n",
        "        kernel_sizes = [3, 1]\n",
        "        in_channels = 3\n",
        "        for i in range(num_blocks):\n",
        "            block_layers = nn.ModuleList()\n",
        "            for kernel_size in kernel_sizes:\n",
        "                for out_channel in out_channels:\n",
        "                    block_layers.append(nn.Conv2d(in_channels, out_channel, kernel_size=kernel_size, padding='same', bias=False))\n",
        "                    block_layers.append(nn.BatchNorm2d(out_channel))\n",
        "                    block_layers.append(nn.ReLU(inplace=False))\n",
        "                    in_channels = out_channel\n",
        "            block_layers.append(nn.AdaptiveAvgPool2d(1))\n",
        "            block_layers.append(nn.Flatten())\n",
        "            block_layers.append(nn.Linear(out_channels[-1], hidden_units))\n",
        "            block_layers.append(nn.ReLU(inplace=False))\n",
        "            in_channels = hidden_units\n",
        "            self.blocks.append(nn.Sequential(*block_layers))\n",
        "\n",
        "        # The classifier\n",
        "\n",
        "        #self.avg_pool = nn.AdaptiveAvgPool2d(1) #SpatialAveragePooling\n",
        "    \n",
        "        self.classifier = nn.Sequential()\n",
        "\n",
        "        if hidden_layers > 0:\n",
        "            self.classifier.add_module('hidden_layer_0', nn.Linear(hidden_units, hidden_units))\n",
        "            self.classifier.add_module('relu_0', nn.ReLU(inplace=False))\n",
        "            for i in range(1, hidden_layers):\n",
        "                self.classifier.add_module(f'hidden_layer_{i}', nn.Linear(hidden_units, hidden_units))\n",
        "                self.classifier.add_module(f'relu_{i}', nn.ReLU(inplace=False))\n",
        "            self.classifier.add_module('output_layer', nn.Linear(hidden_units, 10))\n",
        "        else:\n",
        "            self.classifier.add_module('output_layer', nn.Linear(out_channels[-1], 10))\n",
        "        \n",
        "    def forward(self, x):\n",
        "        x = x.float()\n",
        "        if x.dim() == 3:\n",
        "          x = x.unsqueeze(0)\n",
        "        batch_size = x.shape[0]\n",
        "        x = x.view(batch_size, -1, *x.shape[2:])  # flatten all dimensions except the batch dimension\n",
        "        for i, block in enumerate(self.blocks):\n",
        "            x = block(x)\n",
        "            # reshape the output of the block to [batch_size, channels, height, width]\n",
        "            x = x.view(x.shape[0], -1, 1, 1)\n",
        "       # x = self.avg_pool(x)\n",
        "       # x = x.view(x.size(0), -1)  # Reshaping the tensor to have shape (batch_size, num_channels)\n",
        "        x = self.classifier(x.squeeze())\n",
        "        return x\n"
      ],
      "metadata": {
        "id": "UZmKIP829YC-"
      },
      "execution_count": 64,
      "outputs": []
    },
    {
      "cell_type": "code",
      "source": [
        "# Initialising the model\n",
        "# Model parameters:\n",
        "\n",
        "num_blocks = 2  # Number of blocks in the backbone [Can be fined tuned for model performance]\n",
        "hidden_layers = 2  # Number of hidden layers in the MLP classifier [Can be fined tuned for model performance]\n",
        "hidden_units = 256  # Number of hidden units in each hidden layer of the MLP classifier [Can be fined tuned for model performance]\n",
        "\n",
        "# Printing the models architecture\n",
        "\n",
        "model = MyModel( num_blocks, hidden_layers, hidden_units)\n",
        "print(model)"
      ],
      "metadata": {
        "colab": {
          "base_uri": "https://localhost:8080/"
        },
        "id": "O_Gby4jPyLgX",
        "outputId": "0f4da8a8-9350-4ea9-b48f-286e9d59e981"
      },
      "execution_count": 65,
      "outputs": [
        {
          "output_type": "stream",
          "name": "stdout",
          "text": [
            "MyModel(\n",
            "  (blocks): ModuleList(\n",
            "    (0): Sequential(\n",
            "      (0): Conv2d(3, 32, kernel_size=(3, 3), stride=(1, 1), padding=same, bias=False)\n",
            "      (1): BatchNorm2d(32, eps=1e-05, momentum=0.1, affine=True, track_running_stats=True)\n",
            "      (2): ReLU()\n",
            "      (3): Conv2d(32, 120, kernel_size=(3, 3), stride=(1, 1), padding=same, bias=False)\n",
            "      (4): BatchNorm2d(120, eps=1e-05, momentum=0.1, affine=True, track_running_stats=True)\n",
            "      (5): ReLU()\n",
            "      (6): Conv2d(120, 32, kernel_size=(1, 1), stride=(1, 1), padding=same, bias=False)\n",
            "      (7): BatchNorm2d(32, eps=1e-05, momentum=0.1, affine=True, track_running_stats=True)\n",
            "      (8): ReLU()\n",
            "      (9): Conv2d(32, 120, kernel_size=(1, 1), stride=(1, 1), padding=same, bias=False)\n",
            "      (10): BatchNorm2d(120, eps=1e-05, momentum=0.1, affine=True, track_running_stats=True)\n",
            "      (11): ReLU()\n",
            "      (12): AdaptiveAvgPool2d(output_size=1)\n",
            "      (13): Flatten(start_dim=1, end_dim=-1)\n",
            "      (14): Linear(in_features=120, out_features=256, bias=True)\n",
            "      (15): ReLU()\n",
            "    )\n",
            "    (1): Sequential(\n",
            "      (0): Conv2d(256, 32, kernel_size=(3, 3), stride=(1, 1), padding=same, bias=False)\n",
            "      (1): BatchNorm2d(32, eps=1e-05, momentum=0.1, affine=True, track_running_stats=True)\n",
            "      (2): ReLU()\n",
            "      (3): Conv2d(32, 120, kernel_size=(3, 3), stride=(1, 1), padding=same, bias=False)\n",
            "      (4): BatchNorm2d(120, eps=1e-05, momentum=0.1, affine=True, track_running_stats=True)\n",
            "      (5): ReLU()\n",
            "      (6): Conv2d(120, 32, kernel_size=(1, 1), stride=(1, 1), padding=same, bias=False)\n",
            "      (7): BatchNorm2d(32, eps=1e-05, momentum=0.1, affine=True, track_running_stats=True)\n",
            "      (8): ReLU()\n",
            "      (9): Conv2d(32, 120, kernel_size=(1, 1), stride=(1, 1), padding=same, bias=False)\n",
            "      (10): BatchNorm2d(120, eps=1e-05, momentum=0.1, affine=True, track_running_stats=True)\n",
            "      (11): ReLU()\n",
            "      (12): AdaptiveAvgPool2d(output_size=1)\n",
            "      (13): Flatten(start_dim=1, end_dim=-1)\n",
            "      (14): Linear(in_features=120, out_features=256, bias=True)\n",
            "      (15): ReLU()\n",
            "    )\n",
            "  )\n",
            "  (classifier): Sequential(\n",
            "    (hidden_layer_0): Linear(in_features=256, out_features=256, bias=True)\n",
            "    (relu_0): ReLU()\n",
            "    (hidden_layer_1): Linear(in_features=256, out_features=256, bias=True)\n",
            "    (relu_1): ReLU()\n",
            "    (output_layer): Linear(in_features=256, out_features=10, bias=True)\n",
            "  )\n",
            ")\n"
          ]
        }
      ]
    },
    {
      "cell_type": "markdown",
      "source": [
        "### Initialising the model\n",
        "\n",
        "[Note to self - these hyperparameter settings are important for fine tuning the model]"
      ],
      "metadata": {
        "id": "nuTzpXPbHdVT"
      }
    },
    {
      "cell_type": "markdown",
      "source": [
        "#3) Creating the loss and optimiser (5%)"
      ],
      "metadata": {
        "id": "3ag26WcbkcV9"
      }
    },
    {
      "cell_type": "markdown",
      "source": [
        "I will be calculating loss using the Cross-Entropy Loss method. Cross-entropy loss is commonly used for classification problems, where the goal is to classify inputs into discrete categories. It measures the dissimilarity between the predicted class probabilities and the ground truth labels. [Need to reword]"
      ],
      "metadata": {
        "id": "ckOdFw925JoZ"
      }
    },
    {
      "cell_type": "code",
      "source": [
        "# Creating cross-entropy loss\n",
        "loss = nn.CrossEntropyLoss()\n",
        "\n",
        "# Defining an optimizer\n",
        "lr = 0.1 # Learning rate\n",
        "wd = 0  # Weight decay (regularization)\n",
        "optimizer = torch.optim.SGD(model.parameters(), lr=lr, weight_decay=wd)  # SGD optimizer with given learning rate and weight decay"
      ],
      "metadata": {
        "id": "R9utPOieF29C"
      },
      "execution_count": 66,
      "outputs": []
    },
    {
      "cell_type": "markdown",
      "source": [
        "#4) Training script (30%)"
      ],
      "metadata": {
        "id": "MR97YWtwlSuU"
      }
    },
    {
      "cell_type": "markdown",
      "source": [
        "# Figure it out later"
      ],
      "metadata": {
        "id": "FRDLoiWZ9ACZ"
      }
    },
    {
      "cell_type": "code",
      "source": [
        "import matplotlib.pyplot as plt\n",
        "\n",
        "device = torch.device('cuda' if torch.cuda.is_available() else 'cpu')\n",
        "print(f'Using device: {device}')\n",
        "\n",
        "# Function for plotting loss, training & validation accuracies\n",
        "\n",
        "def train_plt(model, trainloader, testloader, loss, optimizer, epochs):\n",
        "    model.to(device)  # Moving the model to the device\n",
        "    model.train()  # Setting the model to training mode\n",
        "    train_losses = []\n",
        "    train_accuracies = []\n",
        "    valid_accuracies = []\n",
        "\n",
        "    for epoch in range(epochs):\n",
        "        epoch_loss = 0.0\n",
        "        correct = 0\n",
        "        total = 0\n",
        "        for batch_idx, (X, y) in enumerate(trainloader):\n",
        "            X, y = X.to(device), y.to(device)  # Moving the data to the device\n",
        "            optimizer.zero_grad()  # Zeroing the gradients of the model parameters\n",
        "            y_hat = model(X)  # Forward pass to obtain model predictions\n",
        "            l = loss(y_hat, y)  # Computing the loss between predictions and ground truth labels\n",
        "            l.backward()  # Backpropagating the gradients\n",
        "            optimizer.step()  # Updating the model parameters using the optimizer\n",
        "            epoch_loss += l.item()  # Accumulating batch loss\n",
        "\n",
        "            _, predicted = y_hat.max(1)\n",
        "            total += y.size(0)\n",
        "            correct += predicted.eq(y).sum().item()\n",
        "\n",
        "        epoch_loss /= len(trainloader)  # Average loss for the epoch\n",
        "        train_losses.append(epoch_loss)  # Storing the epoch loss\n",
        "\n",
        "        epoch_accuracy = 100. * correct / total\n",
        "        train_accuracies.append(epoch_accuracy)  # Storing the epoch accuracy\n",
        "\n",
        "        # Computing validation accuracy\n",
        "        model.eval()  # Setting the model to evaluation mode\n",
        "        correct = 0\n",
        "        total = 0\n",
        "        with torch.no_grad():\n",
        "            for batch_idx, (X, y) in enumerate(testloader):\n",
        "                X, y = X.to(device), y.to(device)  # Moving the data to the device\n",
        "                y_hat = model(X)  # Forward pass to obtain model predictions\n",
        "                _, predicted = y_hat.max(1)\n",
        "                total += y.size(0)\n",
        "                correct += predicted.eq(y).sum().item()\n",
        "\n",
        "        valid_accuracy = 100. * correct / total\n",
        "        valid_accuracies.append(valid_accuracy)  # Storing the validation accuracy\n",
        "\n",
        "        model.train()  # Setting the model back to training mode\n",
        "\n",
        "        print(f'Epoch [{epoch+1}/{epochs}], Loss: {epoch_loss:.4f}, Train Accuracy: {epoch_accuracy:.2f}%, '\n",
        "              f'Valid Accuracy: {valid_accuracy:.2f}%')\n",
        "\n",
        "    # Plotting the evolution of loss, training accuracy, and validation accuracy\n",
        "    \n",
        "    plt.figure(figsize=(12, 5))\n",
        "    plt.subplot(1, 3, 1)\n",
        "    plt.plot(train_losses)\n",
        "    plt.xlabel('Epoch')\n",
        "    plt.ylabel('Loss')\n",
        "    plt.title('Evolution of Loss')\n",
        "\n",
        "    plt.subplot(1, 3, 2)\n",
        "    plt.plot(train_accuracies, color='red')\n",
        "    plt.xlabel('Epoch')\n",
        "    plt.ylabel('Training Accuracy (%)')\n",
        "    plt.title('Evolution of Training Accuracy')\n",
        "\n",
        "    plt.subplot(1, 3, 3)\n",
        "    plt.plot(valid_accuracies, color='green')\n",
        "    plt.xlabel('Epoch')\n",
        "    plt.ylabel('Validation Accuracy (%)')\n",
        "    plt.title('Evolution of Validation Accuracy')\n",
        "\n",
        "    plt.tight_layout()\n",
        "    plt.show()\n"
      ],
      "metadata": {
        "colab": {
          "base_uri": "https://localhost:8080/"
        },
        "id": "ByxyUw6Eh-mP",
        "outputId": "c88b98ae-a3f5-4602-8d85-90e5130b5e85"
      },
      "execution_count": 67,
      "outputs": [
        {
          "output_type": "stream",
          "name": "stdout",
          "text": [
            "Using device: cuda\n"
          ]
        }
      ]
    },
    {
      "cell_type": "code",
      "source": [
        "train_plt(model, trainloader, testloader, loss, optimizer, 50)"
      ],
      "metadata": {
        "colab": {
          "base_uri": "https://localhost:8080/",
          "height": 1000
        },
        "id": "pg1bNHJxs_3m",
        "outputId": "a6566803-213e-4f93-f6b9-201aa61ee181"
      },
      "execution_count": 68,
      "outputs": [
        {
          "output_type": "stream",
          "name": "stdout",
          "text": [
            "Epoch [1/50], Loss: 1.9047, Train Accuracy: 27.64%, Valid Accuracy: 33.04%\n",
            "Epoch [2/50], Loss: 1.5468, Train Accuracy: 41.11%, Valid Accuracy: 34.61%\n",
            "Epoch [3/50], Loss: 1.3900, Train Accuracy: 48.43%, Valid Accuracy: 40.62%\n",
            "Epoch [4/50], Loss: 1.2897, Train Accuracy: 52.88%, Valid Accuracy: 47.54%\n",
            "Epoch [5/50], Loss: 1.2109, Train Accuracy: 56.09%, Valid Accuracy: 54.38%\n",
            "Epoch [6/50], Loss: 1.1532, Train Accuracy: 58.41%, Valid Accuracy: 51.86%\n",
            "Epoch [7/50], Loss: 1.1057, Train Accuracy: 60.19%, Valid Accuracy: 52.38%\n",
            "Epoch [8/50], Loss: 1.0673, Train Accuracy: 61.61%, Valid Accuracy: 40.17%\n",
            "Epoch [9/50], Loss: 1.0334, Train Accuracy: 62.91%, Valid Accuracy: 49.34%\n",
            "Epoch [10/50], Loss: 1.0072, Train Accuracy: 63.93%, Valid Accuracy: 58.44%\n",
            "Epoch [11/50], Loss: 0.9833, Train Accuracy: 65.10%, Valid Accuracy: 52.26%\n",
            "Epoch [12/50], Loss: 0.9536, Train Accuracy: 66.19%, Valid Accuracy: 57.35%\n",
            "Epoch [13/50], Loss: 0.9326, Train Accuracy: 67.05%, Valid Accuracy: 64.35%\n",
            "Epoch [14/50], Loss: 0.9196, Train Accuracy: 67.66%, Valid Accuracy: 51.56%\n",
            "Epoch [15/50], Loss: 0.9004, Train Accuracy: 68.00%, Valid Accuracy: 47.69%\n",
            "Epoch [16/50], Loss: 0.8848, Train Accuracy: 68.62%, Valid Accuracy: 61.80%\n",
            "Epoch [17/50], Loss: 0.8682, Train Accuracy: 69.17%, Valid Accuracy: 58.64%\n",
            "Epoch [18/50], Loss: 0.8506, Train Accuracy: 69.99%, Valid Accuracy: 50.89%\n",
            "Epoch [19/50], Loss: 0.8401, Train Accuracy: 70.30%, Valid Accuracy: 55.23%\n",
            "Epoch [20/50], Loss: 0.8222, Train Accuracy: 70.88%, Valid Accuracy: 59.85%\n",
            "Epoch [21/50], Loss: 0.8112, Train Accuracy: 71.40%, Valid Accuracy: 60.00%\n",
            "Epoch [22/50], Loss: 0.8005, Train Accuracy: 71.82%, Valid Accuracy: 54.06%\n",
            "Epoch [23/50], Loss: 0.7876, Train Accuracy: 72.17%, Valid Accuracy: 61.94%\n",
            "Epoch [24/50], Loss: 0.7764, Train Accuracy: 72.71%, Valid Accuracy: 63.74%\n",
            "Epoch [25/50], Loss: 0.7671, Train Accuracy: 72.79%, Valid Accuracy: 57.32%\n",
            "Epoch [26/50], Loss: 0.7596, Train Accuracy: 73.20%, Valid Accuracy: 64.20%\n",
            "Epoch [27/50], Loss: 0.7544, Train Accuracy: 73.39%, Valid Accuracy: 64.19%\n",
            "Epoch [28/50], Loss: 0.7423, Train Accuracy: 73.79%, Valid Accuracy: 65.15%\n",
            "Epoch [29/50], Loss: 0.7335, Train Accuracy: 74.38%, Valid Accuracy: 65.02%\n",
            "Epoch [30/50], Loss: 0.7265, Train Accuracy: 74.28%, Valid Accuracy: 68.94%\n",
            "Epoch [31/50], Loss: 0.7188, Train Accuracy: 74.59%, Valid Accuracy: 68.80%\n",
            "Epoch [32/50], Loss: 0.7129, Train Accuracy: 74.80%, Valid Accuracy: 64.05%\n",
            "Epoch [33/50], Loss: 0.7077, Train Accuracy: 74.87%, Valid Accuracy: 62.70%\n",
            "Epoch [34/50], Loss: 0.6976, Train Accuracy: 75.52%, Valid Accuracy: 65.33%\n",
            "Epoch [35/50], Loss: 0.6926, Train Accuracy: 75.50%, Valid Accuracy: 68.02%\n",
            "Epoch [36/50], Loss: 0.6857, Train Accuracy: 76.04%, Valid Accuracy: 64.71%\n",
            "Epoch [37/50], Loss: 0.6813, Train Accuracy: 75.93%, Valid Accuracy: 67.54%\n",
            "Epoch [38/50], Loss: 0.6721, Train Accuracy: 76.27%, Valid Accuracy: 69.37%\n",
            "Epoch [39/50], Loss: 0.6709, Train Accuracy: 76.29%, Valid Accuracy: 66.31%\n",
            "Epoch [40/50], Loss: 0.6594, Train Accuracy: 76.93%, Valid Accuracy: 67.20%\n",
            "Epoch [41/50], Loss: 0.6550, Train Accuracy: 76.86%, Valid Accuracy: 65.82%\n",
            "Epoch [42/50], Loss: 0.6490, Train Accuracy: 76.95%, Valid Accuracy: 64.05%\n"
          ]
        },
        {
          "output_type": "stream",
          "name": "stderr",
          "text": [
            "Exception ignored in: Exception ignored in: <function _MultiProcessingDataLoaderIter.__del__ at 0x7efe8107a0d0>\n",
            "<function _MultiProcessingDataLoaderIter.__del__ at 0x7efe8107a0d0>Traceback (most recent call last):\n",
            "\n",
            "Traceback (most recent call last):\n",
            "  File \"/usr/local/lib/python3.9/dist-packages/torch/utils/data/dataloader.py\", line 1479, in __del__\n",
            "  File \"/usr/local/lib/python3.9/dist-packages/torch/utils/data/dataloader.py\", line 1479, in __del__\n",
            "        self._shutdown_workers()self._shutdown_workers()\n",
            "\n",
            "  File \"/usr/local/lib/python3.9/dist-packages/torch/utils/data/dataloader.py\", line 1462, in _shutdown_workers\n",
            "    if w.is_alive():\n",
            "  File \"/usr/lib/python3.9/multiprocessing/process.py\", line 160, in is_alive\n",
            "    assert self._parent_pid == os.getpid(), 'can only test a child process'\n",
            "AssertionError: can only test a child process\n",
            "Exception ignored in: <function _MultiProcessingDataLoaderIter.__del__ at 0x7efe8107a0d0>  File \"/usr/local/lib/python3.9/dist-packages/torch/utils/data/dataloader.py\", line 1462, in _shutdown_workers\n",
            "\n",
            "Traceback (most recent call last):\n",
            "  File \"/usr/local/lib/python3.9/dist-packages/torch/utils/data/dataloader.py\", line 1479, in __del__\n",
            "        if w.is_alive():\n",
            "self._shutdown_workers()  File \"/usr/lib/python3.9/multiprocessing/process.py\", line 160, in is_alive\n",
            "\n",
            "  File \"/usr/local/lib/python3.9/dist-packages/torch/utils/data/dataloader.py\", line 1462, in _shutdown_workers\n",
            "    assert self._parent_pid == os.getpid(), 'can only test a child process'\n",
            "    AssertionErrorif w.is_alive():: \n",
            "can only test a child process  File \"/usr/lib/python3.9/multiprocessing/process.py\", line 160, in is_alive\n",
            "    \n",
            "assert self._parent_pid == os.getpid(), 'can only test a child process'\n",
            "AssertionErrorException ignored in: : <function _MultiProcessingDataLoaderIter.__del__ at 0x7efe8107a0d0>can only test a child process\n",
            "\n",
            "Traceback (most recent call last):\n",
            "  File \"/usr/local/lib/python3.9/dist-packages/torch/utils/data/dataloader.py\", line 1479, in __del__\n",
            "    self._shutdown_workers()\n",
            "  File \"/usr/local/lib/python3.9/dist-packages/torch/utils/data/dataloader.py\", line 1462, in _shutdown_workers\n",
            "    if w.is_alive():\n",
            "  File \"/usr/lib/python3.9/multiprocessing/process.py\", line 160, in is_alive\n",
            "    assert self._parent_pid == os.getpid(), 'can only test a child process'\n",
            "AssertionError: can only test a child process\n"
          ]
        },
        {
          "output_type": "stream",
          "name": "stdout",
          "text": [
            "Epoch [43/50], Loss: 0.6473, Train Accuracy: 77.10%, Valid Accuracy: 71.52%\n",
            "Epoch [44/50], Loss: 0.6415, Train Accuracy: 77.48%, Valid Accuracy: 68.62%\n",
            "Epoch [45/50], Loss: 0.6392, Train Accuracy: 77.51%, Valid Accuracy: 64.06%\n"
          ]
        },
        {
          "output_type": "stream",
          "name": "stderr",
          "text": [
            "Exception ignored in: <function _MultiProcessingDataLoaderIter.__del__ at 0x7efe8107a0d0>\n",
            "Traceback (most recent call last):\n",
            "  File \"/usr/local/lib/python3.9/dist-packages/torch/utils/data/dataloader.py\", line 1479, in __del__\n",
            "    self._shutdown_workers()\n",
            "  File \"/usr/local/lib/python3.9/dist-packages/torch/utils/data/dataloader.py\", line 1462, in _shutdown_workers\n",
            "Exception ignored in: <function _MultiProcessingDataLoaderIter.__del__ at 0x7efe8107a0d0>    \n",
            "Traceback (most recent call last):\n",
            "if w.is_alive():\n",
            "  File \"/usr/local/lib/python3.9/dist-packages/torch/utils/data/dataloader.py\", line 1479, in __del__\n",
            "  File \"/usr/lib/python3.9/multiprocessing/process.py\", line 160, in is_alive\n",
            "        assert self._parent_pid == os.getpid(), 'can only test a child process'\n",
            "self._shutdown_workers()AssertionError: \n",
            "  File \"/usr/local/lib/python3.9/dist-packages/torch/utils/data/dataloader.py\", line 1462, in _shutdown_workers\n",
            "    can only test a child process\n",
            "if w.is_alive():\n",
            "  File \"/usr/lib/python3.9/multiprocessing/process.py\", line 160, in is_alive\n",
            "Exception ignored in:     <function _MultiProcessingDataLoaderIter.__del__ at 0x7efe8107a0d0>\n",
            "assert self._parent_pid == os.getpid(), 'can only test a child process'Traceback (most recent call last):\n",
            "\n",
            "AssertionError: can only test a child process\n",
            "Exception ignored in: <function _MultiProcessingDataLoaderIter.__del__ at 0x7efe8107a0d0>\n",
            "Traceback (most recent call last):\n",
            "  File \"/usr/local/lib/python3.9/dist-packages/torch/utils/data/dataloader.py\", line 1479, in __del__\n",
            "    self._shutdown_workers()\n",
            "      File \"/usr/local/lib/python3.9/dist-packages/torch/utils/data/dataloader.py\", line 1479, in __del__\n",
            "  File \"/usr/local/lib/python3.9/dist-packages/torch/utils/data/dataloader.py\", line 1462, in _shutdown_workers\n",
            "    self._shutdown_workers()if w.is_alive():\n",
            "  File \"/usr/lib/python3.9/multiprocessing/process.py\", line 160, in is_alive\n",
            "    assert self._parent_pid == os.getpid(), 'can only test a child process'\n",
            "AssertionError: can only test a child process\n",
            "\n",
            "  File \"/usr/local/lib/python3.9/dist-packages/torch/utils/data/dataloader.py\", line 1462, in _shutdown_workers\n",
            "    if w.is_alive():\n",
            "  File \"/usr/lib/python3.9/multiprocessing/process.py\", line 160, in is_alive\n",
            "    assert self._parent_pid == os.getpid(), 'can only test a child process'\n",
            "AssertionError: can only test a child process\n"
          ]
        },
        {
          "output_type": "stream",
          "name": "stdout",
          "text": [
            "Epoch [46/50], Loss: 0.6317, Train Accuracy: 77.59%, Valid Accuracy: 65.39%\n"
          ]
        },
        {
          "output_type": "stream",
          "name": "stderr",
          "text": [
            "Exception ignored in: <function _MultiProcessingDataLoaderIter.__del__ at 0x7efe8107a0d0>\n",
            "Traceback (most recent call last):\n",
            "  File \"/usr/local/lib/python3.9/dist-packages/torch/utils/data/dataloader.py\", line 1479, in __del__\n",
            "    self._shutdown_workers()\n",
            "  File \"/usr/local/lib/python3.9/dist-packages/torch/utils/data/dataloader.py\", line 1462, in _shutdown_workers\n",
            "    if w.is_alive():\n",
            "  File \"/usr/lib/python3.9/multiprocessing/process.py\", line 160, in is_alive\n",
            "    assert self._parent_pid == os.getpid(), 'can only test a child process'\n",
            "AssertionError: can only test a child process\n",
            "Exception ignored in: <function _MultiProcessingDataLoaderIter.__del__ at 0x7efe8107a0d0>\n",
            "Traceback (most recent call last):\n",
            "  File \"/usr/local/lib/python3.9/dist-packages/torch/utils/data/dataloader.py\", line 1479, in __del__\n",
            "    self._shutdown_workers()\n",
            "  File \"/usr/local/lib/python3.9/dist-packages/torch/utils/data/dataloader.py\", line 1462, in _shutdown_workers\n",
            "    if w.is_alive():\n",
            "  File \"/usr/lib/python3.9/multiprocessing/process.py\", line 160, in is_alive\n",
            "    assert self._parent_pid == os.getpid(), 'can only test a child process'\n",
            "AssertionError: can only test a child process\n",
            "Exception ignored in: <function _MultiProcessingDataLoaderIter.__del__ at 0x7efe8107a0d0>\n",
            "Traceback (most recent call last):\n",
            "  File \"/usr/local/lib/python3.9/dist-packages/torch/utils/data/dataloader.py\", line 1479, in __del__\n",
            "    self._shutdown_workers()\n",
            "  File \"/usr/local/lib/python3.9/dist-packages/torch/utils/data/dataloader.py\", line 1462, in _shutdown_workers\n",
            "    if w.is_alive():\n",
            "  File \"/usr/lib/python3.9/multiprocessing/process.py\", line 160, in is_alive\n",
            "    assert self._parent_pid == os.getpid(), 'can only test a child process'\n",
            "AssertionError: can only test a child process\n",
            "Exception ignored in: <function _MultiProcessingDataLoaderIter.__del__ at 0x7efe8107a0d0>\n",
            "Traceback (most recent call last):\n",
            "  File \"/usr/local/lib/python3.9/dist-packages/torch/utils/data/dataloader.py\", line 1479, in __del__\n",
            "    self._shutdown_workers()\n",
            "  File \"/usr/local/lib/python3.9/dist-packages/torch/utils/data/dataloader.py\", line 1462, in _shutdown_workers\n",
            "    if w.is_alive():\n",
            "  File \"/usr/lib/python3.9/multiprocessing/process.py\", line 160, in is_alive\n",
            "    assert self._parent_pid == os.getpid(), 'can only test a child process'\n",
            "AssertionError: can only test a child process\n"
          ]
        },
        {
          "output_type": "stream",
          "name": "stdout",
          "text": [
            "Epoch [47/50], Loss: 0.6244, Train Accuracy: 77.68%, Valid Accuracy: 64.75%\n",
            "Epoch [48/50], Loss: 0.6229, Train Accuracy: 77.98%, Valid Accuracy: 58.26%\n",
            "Epoch [49/50], Loss: 0.6156, Train Accuracy: 78.27%, Valid Accuracy: 73.65%\n",
            "Epoch [50/50], Loss: 0.6192, Train Accuracy: 78.17%, Valid Accuracy: 63.40%\n"
          ]
        },
        {
          "output_type": "display_data",
          "data": {
            "text/plain": [
              "<Figure size 1200x500 with 3 Axes>"
            ],
            "image/png": "[encoded data removed]"
          },
          "metadata": {}
        }
      ]
    },
    {
      "cell_type": "markdown",
      "source": [
        "#5) Final model accuracy on validation set (5%)"
      ],
      "metadata": {
        "id": "M0BV1a4BldNs"
      }
    },
    {
      "cell_type": "code",
      "source": [
        "# Final model evaluation (Validation Accuracy)\n",
        "\n",
        "model.eval()  # Setting the model to evaluation mode\n",
        "\n",
        "test_losses = 0.0\n",
        "correct = 0\n",
        "total = 0\n",
        "\n",
        "with torch.no_grad():  # Disabling gradient computation during evaluation\n",
        "    for batch_idx, (testX, testY) in enumerate(testloader):\n",
        "        testX = testX.to(device)  # Move input tensor to the GPU\n",
        "        testY = testY.to(device)  # Move target tensor to the GPU\n",
        "        outputs = model(testX)  # Forward pass to obtain model predictions\n",
        "        _, predicted = outputs.max(1)  # Getting predicted labels\n",
        "        total += testY.size(0)  # Accumulating total number of samples\n",
        "        correct += predicted.eq(testY).sum().item()  # Accumulating number of correct predictions\n",
        "\n",
        "# Computing accuracy\n",
        "acc = 100.0 * correct / total\n",
        "\n",
        "print('The final model Validation/Testing accuracy is:  %.3f' % acc)\n"
      ],
      "metadata": {
        "id": "bdADxCjhdot1",
        "colab": {
          "base_uri": "https://localhost:8080/"
        },
        "outputId": "18c20ea0-badc-4983-819a-61d7d511324a"
      },
      "execution_count": 71,
      "outputs": [
        {
          "output_type": "stream",
          "name": "stdout",
          "text": [
            "The final model Validation/Testing accuracy is:  63.400\n"
          ]
        }
      ]
    },
    {
      "cell_type": "code",
      "source": [],
      "metadata": {
        "id": "NeZCwD4gkzD_"
      },
      "execution_count": null,
      "outputs": []
    },
    {
      "cell_type": "code",
      "source": [],
      "metadata": {
        "id": "O0P3x2xbkzBI"
      },
      "execution_count": null,
      "outputs": []
    },
    {
      "cell_type": "code",
      "source": [],
      "metadata": {
        "id": "QL9zLdVaky-F"
      },
      "execution_count": null,
      "outputs": []
    },
    {
      "cell_type": "code",
      "source": [],
      "metadata": {
        "id": "_n6RyGMFgpuG"
      },
      "execution_count": null,
      "outputs": []
    }
  ]
}